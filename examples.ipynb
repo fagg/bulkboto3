{
 "cells": [
  {
   "cell_type": "markdown",
   "id": "ec56033b",
   "metadata": {},
   "source": [
    "# [Bulk Boto3 (bulkboto3) Examples](https://github.com/iamirmasoud/bulkboto3)\n",
    "\n",
    "### Main Functionalities:\n",
    "  - Multi-thread uploading/downloading of a directory (keeping the directory structure) to/from S3 object storage\n",
    "  - Deleting all objects of an S3 bucket\n",
    "  - Checking the existence of an object on the S3 bucket\n",
    "  - Listing all objects on an S3 bucket\n",
    "  - Creating a new bucket on the S3\n",
    "\n",
    "Please find more about details of examples on:\n",
    "- [Github](https://github.com/iamirmasoud/bulkboto3)\n",
    "- [PyPI](https://pypi.org/project/bulkboto3/)\n",
    "- [BulkBoto3: Python package for fast and parallel transferring a bulk of files to S3 based on boto3!](http://www.sefidian.com/2022/03/28/bulkboto3-python-package-for-fast-and-parallel-transferring-a-bulk-of-files-to-s3-based-on-boto3/)"
   ]
  },
  {
   "cell_type": "code",
   "execution_count": null,
   "id": "1755dee2",
   "metadata": {},
   "outputs": [],
   "source": [
    "import logging\n",
    "\n",
    "from bulkboto3 import BulkBoto3, StorageTransferPath"
   ]
  },
  {
   "cell_type": "code",
   "execution_count": null,
   "id": "3ffa10ae",
   "metadata": {},
   "outputs": [],
   "source": [
    "logging.basicConfig(\n",
    "    level=\"INFO\",\n",
    "    format=\"%(asctime)s — %(levelname)s — %(message)s\",\n",
    "    datefmt=\"%Y-%m-%d %H:%M:%S\",\n",
    ")\n",
    "logger = logging.getLogger(__name__)"
   ]
  },
  {
   "cell_type": "code",
   "execution_count": null,
   "id": "178d60c9",
   "metadata": {},
   "outputs": [],
   "source": [
    "TARGET_BUCKET = \"test-bucket\"\n",
    "NUM_TRANSFER_THREADS = 50\n",
    "TRANSFER_VERBOSITY = True"
   ]
  },
  {
   "cell_type": "markdown",
   "id": "629bfe7d",
   "metadata": {},
   "source": [
    "## Instantiate a BulkBoto3 object"
   ]
  },
  {
   "cell_type": "code",
   "execution_count": null,
   "id": "a5343678",
   "metadata": {},
   "outputs": [],
   "source": [
    "bulkboto_agent = BulkBoto3(\n",
    "    resource_type=\"s3\",\n",
    "    endpoint_url=\"<Your storage endpoint>\",\n",
    "    aws_access_key_id=\"<Your access key>\",\n",
    "    aws_secret_access_key=\"<Your secret key>\",\n",
    "    max_pool_connections=300,\n",
    "    verbose=TRANSFER_VERBOSITY,\n",
    ")"
   ]
  },
  {
   "cell_type": "markdown",
   "id": "0df17fdf",
   "metadata": {},
   "source": [
    "## Create a new bucket"
   ]
  },
  {
   "cell_type": "code",
   "execution_count": null,
   "id": "d518b963",
   "metadata": {},
   "outputs": [],
   "source": [
    "bulkboto_agent.create_new_bucket(bucket_name=TARGET_BUCKET)"
   ]
  },
  {
   "cell_type": "markdown",
   "id": "a2472e10",
   "metadata": {},
   "source": [
    "## Upload a whole directory with its structure to an S3 bucket in multi thread mode"
   ]
  },
  {
   "cell_type": "code",
   "execution_count": null,
   "id": "9939e710",
   "metadata": {},
   "outputs": [],
   "source": [
    "bulkboto_agent.upload_dir_to_storage(\n",
    "    bucket_name=TARGET_BUCKET,\n",
    "    local_dir=\"test_dir\",\n",
    "    storage_dir=\"my_storage_dir\",\n",
    "    n_threads=NUM_TRANSFER_THREADS,\n",
    ")"
   ]
  },
  {
   "cell_type": "markdown",
   "id": "f6310e76",
   "metadata": {},
   "source": [
    "## Download a whole directory with its structure to a local directory in multi thread mode"
   ]
  },
  {
   "cell_type": "code",
   "execution_count": null,
   "id": "2557b718",
   "metadata": {},
   "outputs": [],
   "source": [
    "bulkboto_agent.download_dir_from_storage(\n",
    "    bucket_name=TARGET_BUCKET,\n",
    "    storage_dir=\"my_storage_dir\",\n",
    "    local_dir=\"new_test_dir\",\n",
    "    n_threads=NUM_TRANSFER_THREADS,\n",
    ")"
   ]
  },
  {
   "cell_type": "markdown",
   "id": "e17439ca",
   "metadata": {},
   "source": [
    "## Upload arbitrary files to an S3 bucket"
   ]
  },
  {
   "cell_type": "code",
   "execution_count": null,
   "id": "28b31bef",
   "metadata": {},
   "outputs": [],
   "source": [
    "upload_paths = [\n",
    "    StorageTransferPath(\n",
    "        local_path=\"test_dir/first_subdir/f2\",\n",
    "        storage_path=\"f2\",\n",
    "    ),\n",
    "    StorageTransferPath(\n",
    "        local_path=\"test_dir/second_subdir/f4\",\n",
    "        storage_path=\"my_storage_dir/f4\",\n",
    "    ),\n",
    "]\n",
    "bulkboto_agent.upload(bucket_name=TARGET_BUCKET, upload_paths=upload_paths)"
   ]
  },
  {
   "cell_type": "markdown",
   "id": "05ee7a29",
   "metadata": {},
   "source": [
    "## Download arbitrary files from an S3 bucket"
   ]
  },
  {
   "cell_type": "code",
   "execution_count": null,
   "id": "f9842151",
   "metadata": {},
   "outputs": [],
   "source": [
    "download_paths = [\n",
    "    StorageTransferPath(\n",
    "        storage_path=\"f2\",\n",
    "        local_path=\"f2\",\n",
    "    ),\n",
    "    StorageTransferPath(\n",
    "        storage_path=\"my_storage_dir/f4\",\n",
    "        local_path=\"f5\",\n",
    "    ),\n",
    "]\n",
    "bulkboto_agent.download(\n",
    "    bucket_name=TARGET_BUCKET, download_paths=download_paths\n",
    ")"
   ]
  },
  {
   "cell_type": "markdown",
   "id": "0749e01e",
   "metadata": {},
   "source": [
    "## Check if a file exists in a bucket"
   ]
  },
  {
   "cell_type": "code",
   "execution_count": null,
   "id": "72c9410a",
   "metadata": {},
   "outputs": [],
   "source": [
    "print(\n",
    "    bulkboto_agent.check_object_exists(\n",
    "        bucket_name=TARGET_BUCKET,\n",
    "        object_path=\"my_storage_dir/first_subdir/test_file.txt\",\n",
    "    )\n",
    ")\n",
    "print(\n",
    "    bulkboto_agent.check_object_exists(\n",
    "        bucket_name=TARGET_BUCKET, object_path=\"my_storage_dir/first_subdir/f1\"\n",
    "    )\n",
    ")"
   ]
  },
  {
   "cell_type": "markdown",
   "id": "efbbc5aa",
   "metadata": {},
   "source": [
    "## Get list of objects in a bucket (with prefix)"
   ]
  },
  {
   "cell_type": "code",
   "execution_count": null,
   "id": "23199abd",
   "metadata": {},
   "outputs": [],
   "source": [
    "print(\n",
    "    bulkboto_agent.list_objects(\n",
    "        bucket_name=TARGET_BUCKET, storage_dir=\"my_storage_dir\"\n",
    "    )\n",
    ")\n",
    "print(\n",
    "    bulkboto_agent.list_objects(\n",
    "        bucket_name=TARGET_BUCKET, storage_dir=\"my_storage_dir/second_subdir\"\n",
    "    )\n",
    ")"
   ]
  },
  {
   "cell_type": "markdown",
   "id": "6d5c0454",
   "metadata": {},
   "source": [
    "## delete all objects on a bucket"
   ]
  },
  {
   "cell_type": "code",
   "execution_count": null,
   "id": "c33935e9",
   "metadata": {},
   "outputs": [],
   "source": [
    "\n",
    "bulkboto_agent.empty_bucket(TARGET_BUCKET)"
   ]
  }
 ],
 "metadata": {
  "kernelspec": {
   "display_name": "Python (music_env)",
   "language": "python",
   "name": "music_env"
  },
  "language_info": {
   "codemirror_mode": {
    "name": "ipython",
    "version": 3
   },
   "file_extension": ".py",
   "mimetype": "text/x-python",
   "name": "python",
   "nbconvert_exporter": "python",
   "pygments_lexer": "ipython3",
   "version": "3.10.4"
  }
 },
 "nbformat": 4,
 "nbformat_minor": 5
}
